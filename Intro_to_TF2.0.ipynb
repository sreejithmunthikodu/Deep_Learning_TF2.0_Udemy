{
 "cells": [
  {
   "cell_type": "markdown",
   "metadata": {},
   "source": [
    "## Basics of TF 2.0"
   ]
  },
  {
   "cell_type": "code",
   "execution_count": 1,
   "metadata": {},
   "outputs": [],
   "source": [
    "import numpy as np\n",
    "import tensorflow as tf"
   ]
  },
  {
   "cell_type": "markdown",
   "metadata": {},
   "source": [
    "### .npz format (TensorFlow friendly file format)"
   ]
  },
  {
   "cell_type": "code",
   "execution_count": 2,
   "metadata": {},
   "outputs": [],
   "source": [
    "x = np.arange(10)\n",
    "y = np.arange(100)\n",
    "z = np.random.uniform(0, 10, 25)"
   ]
  },
  {
   "cell_type": "code",
   "execution_count": 3,
   "metadata": {},
   "outputs": [],
   "source": [
    "np.savez(\"sample_npz\", x=x, y=y, z=z)"
   ]
  },
  {
   "cell_type": "code",
   "execution_count": 7,
   "metadata": {},
   "outputs": [
    {
     "data": {
      "text/plain": [
       "['x', 'y', 'z']"
      ]
     },
     "execution_count": 7,
     "metadata": {},
     "output_type": "execute_result"
    }
   ],
   "source": [
    "npz_file = np.load(\"sample_npz.npz\")\n",
    "npz_file.files"
   ]
  },
  {
   "cell_type": "code",
   "execution_count": 9,
   "metadata": {},
   "outputs": [
    {
     "data": {
      "text/plain": [
       "array([7.91424318, 3.29565086, 3.40467184, 1.92107453, 7.076774  ,\n",
       "       1.14763056, 1.31839866, 9.64820022, 6.68835225, 1.74474606,\n",
       "       0.83840597, 0.48958693, 7.88907303, 0.18057739, 4.94738106,\n",
       "       4.02162436, 6.42991382, 5.3334803 , 3.47304226, 7.15244775,\n",
       "       2.89827227, 8.43167145, 1.70277271, 7.25336934, 4.89889945])"
      ]
     },
     "execution_count": 9,
     "metadata": {},
     "output_type": "execute_result"
    }
   ],
   "source": [
    "npz_file[\"z\"]"
   ]
  },
  {
   "cell_type": "markdown",
   "metadata": {},
   "source": [
    "### Generate random data"
   ]
  },
  {
   "cell_type": "code",
   "execution_count": 11,
   "metadata": {},
   "outputs": [],
   "source": [
    "observations = 1000\n",
    "x1 = np.random.uniform(-10, 10, observations)\n",
    "x2 = np.random.uniform(-10, 10, observations)\n",
    "\n",
    "x = np.column_stack((x1, x2))\n",
    "\n",
    "noise = np.random.uniform(-1, 1, observations)\n",
    "\n",
    "y = 2*x1 - 3*x2 + 5 + noise\n",
    "\n",
    "# save as a .npz file\n",
    "np.savez(\"training_file\", data = x, targets = y)"
   ]
  },
  {
   "cell_type": "markdown",
   "metadata": {},
   "source": [
    "### Load data"
   ]
  },
  {
   "cell_type": "code",
   "execution_count": 13,
   "metadata": {},
   "outputs": [],
   "source": [
    "training_data = np.load(\"training_file.npz\")\n",
    "x = training_data[\"data\"]\n",
    "y = training_data[\"targets\"]"
   ]
  },
  {
   "cell_type": "markdown",
   "metadata": {},
   "source": [
    "### Create tf model"
   ]
  },
  {
   "cell_type": "code",
   "execution_count": 19,
   "metadata": {},
   "outputs": [
    {
     "name": "stdout",
     "output_type": "stream",
     "text": [
      "Train on 1000 samples\n",
      "Epoch 1/10\n",
      "1000/1000 - 0s - loss: 24.7429\n",
      "Epoch 2/10\n",
      "1000/1000 - 0s - loss: 4.4632\n",
      "Epoch 3/10\n",
      "1000/1000 - 0s - loss: 1.4795\n",
      "Epoch 4/10\n",
      "1000/1000 - 0s - loss: 0.6612\n",
      "Epoch 5/10\n",
      "1000/1000 - 0s - loss: 0.4388\n",
      "Epoch 6/10\n",
      "1000/1000 - 0s - loss: 0.3656\n",
      "Epoch 7/10\n",
      "1000/1000 - 0s - loss: 0.3511\n",
      "Epoch 8/10\n",
      "1000/1000 - 0s - loss: 0.3521\n",
      "Epoch 9/10\n",
      "1000/1000 - 0s - loss: 0.3530\n",
      "Epoch 10/10\n",
      "1000/1000 - 0s - loss: 0.3498\n"
     ]
    },
    {
     "data": {
      "text/plain": [
       "<tensorflow.python.keras.callbacks.History at 0x7f46a073dc18>"
      ]
     },
     "execution_count": 19,
     "metadata": {},
     "output_type": "execute_result"
    }
   ],
   "source": [
    "output_size = 1\n",
    "input_size = 2\n",
    "\n",
    "model = tf.keras.Sequential([\n",
    "    tf.keras.layers.Dense(output_size, activation=None)    \n",
    "])\n",
    "\n",
    "model.compile(optimizer=\"sgd\", loss=\"mean_squared_error\")\n",
    "model.fit(x, y, epochs=10, verbose=2)"
   ]
  },
  {
   "cell_type": "code",
   "execution_count": 22,
   "metadata": {},
   "outputs": [],
   "source": [
    "params = model.layers[0].get_weights()"
   ]
  },
  {
   "cell_type": "code",
   "execution_count": 23,
   "metadata": {},
   "outputs": [],
   "source": [
    "weights = params[0]\n",
    "bias = params[1]"
   ]
  },
  {
   "cell_type": "code",
   "execution_count": 24,
   "metadata": {},
   "outputs": [
    {
     "data": {
      "text/plain": [
       "array([[ 1.9987478],\n",
       "       [-2.9918811]], dtype=float32)"
      ]
     },
     "execution_count": 24,
     "metadata": {},
     "output_type": "execute_result"
    }
   ],
   "source": [
    "weights"
   ]
  },
  {
   "cell_type": "code",
   "execution_count": 25,
   "metadata": {},
   "outputs": [
    {
     "data": {
      "text/plain": [
       "array([4.991157], dtype=float32)"
      ]
     },
     "execution_count": 25,
     "metadata": {},
     "output_type": "execute_result"
    }
   ],
   "source": [
    "bias"
   ]
  },
  {
   "cell_type": "code",
   "execution_count": 28,
   "metadata": {},
   "outputs": [
    {
     "data": {
      "text/plain": [
       "array([[ 37.6],\n",
       "       [ 10.4],\n",
       "       [ -5.6],\n",
       "       [ -5.9],\n",
       "       [ 27.4],\n",
       "       [ 22.4],\n",
       "       [ 14.9],\n",
       "       [ 35.8],\n",
       "       [  0.7],\n",
       "       [-10.4]], dtype=float32)"
      ]
     },
     "execution_count": 28,
     "metadata": {},
     "output_type": "execute_result"
    }
   ],
   "source": [
    "model.predict_on_batch(x).round(1)[:10]"
   ]
  },
  {
   "cell_type": "code",
   "execution_count": 29,
   "metadata": {},
   "outputs": [
    {
     "data": {
      "text/plain": [
       "array([ 37.5,  11.2,  -4.8,  -6. ,  27.5,  22.6,  15.3,  35.3,   0.6,\n",
       "       -10.5])"
      ]
     },
     "execution_count": 29,
     "metadata": {},
     "output_type": "execute_result"
    }
   ],
   "source": [
    "y.round(1)[:10]"
   ]
  },
  {
   "cell_type": "code",
   "execution_count": null,
   "metadata": {},
   "outputs": [],
   "source": []
  }
 ],
 "metadata": {
  "kernelspec": {
   "display_name": "Python [conda env:tf2-gpu]",
   "language": "python",
   "name": "conda-env-tf2-gpu-py"
  },
  "language_info": {
   "codemirror_mode": {
    "name": "ipython",
    "version": 3
   },
   "file_extension": ".py",
   "mimetype": "text/x-python",
   "name": "python",
   "nbconvert_exporter": "python",
   "pygments_lexer": "ipython3",
   "version": "3.7.3"
  }
 },
 "nbformat": 4,
 "nbformat_minor": 2
}
